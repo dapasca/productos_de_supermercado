{
 "cells": [
  {
   "cell_type": "code",
   "execution_count": 1,
   "id": "e3619942-a48a-4e10-97e8-8f9a9cfffd68",
   "metadata": {},
   "outputs": [
    {
     "data": {
      "text/html": [
       "<div>\n",
       "<style scoped>\n",
       "    .dataframe tbody tr th:only-of-type {\n",
       "        vertical-align: middle;\n",
       "    }\n",
       "\n",
       "    .dataframe tbody tr th {\n",
       "        vertical-align: top;\n",
       "    }\n",
       "\n",
       "    .dataframe thead th {\n",
       "        text-align: right;\n",
       "    }\n",
       "</style>\n",
       "<table border=\"1\" class=\"dataframe\">\n",
       "  <thead>\n",
       "    <tr style=\"text-align: right;\">\n",
       "      <th></th>\n",
       "      <th>insert_date</th>\n",
       "      <th>product_id</th>\n",
       "      <th>supermarket</th>\n",
       "      <th>price</th>\n",
       "      <th>reference_price</th>\n",
       "      <th>reference_unit</th>\n",
       "      <th>main_category</th>\n",
       "      <th>secondary_category</th>\n",
       "      <th>type</th>\n",
       "      <th>supercategories</th>\n",
       "    </tr>\n",
       "  </thead>\n",
       "  <tbody>\n",
       "    <tr>\n",
       "      <th>0</th>\n",
       "      <td>2021-03-31</td>\n",
       "      <td>000524d73b9d09ae193aaf463191b038</td>\n",
       "      <td>carrefour-es</td>\n",
       "      <td>2.60</td>\n",
       "      <td>15.29</td>\n",
       "      <td>kg</td>\n",
       "      <td>charcuteria</td>\n",
       "      <td>fiambre_de_pavo_y_pollo</td>\n",
       "      <td>fiambre_de_pavo_y_pollo</td>\n",
       "      <td>carne</td>\n",
       "    </tr>\n",
       "    <tr>\n",
       "      <th>1</th>\n",
       "      <td>2021-03-31</td>\n",
       "      <td>000780b12d67871681dccc1383869831</td>\n",
       "      <td>carrefour-es</td>\n",
       "      <td>2.75</td>\n",
       "      <td>10.00</td>\n",
       "      <td>kg</td>\n",
       "      <td>la_despensa</td>\n",
       "      <td>dulce_y_desayuno</td>\n",
       "      <td>dulces_y_golosinas</td>\n",
       "      <td>conservas</td>\n",
       "    </tr>\n",
       "    <tr>\n",
       "      <th>2</th>\n",
       "      <td>2021-03-31</td>\n",
       "      <td>000980fa0323353bf82a87c4edbece89</td>\n",
       "      <td>dia-es</td>\n",
       "      <td>1.55</td>\n",
       "      <td>2.04</td>\n",
       "      <td>kg</td>\n",
       "      <td>congelados_y_helados</td>\n",
       "      <td>helados</td>\n",
       "      <td>zumos_horchatas_y_granizados</td>\n",
       "      <td>congelados</td>\n",
       "    </tr>\n",
       "    <tr>\n",
       "      <th>3</th>\n",
       "      <td>2021-03-31</td>\n",
       "      <td>000d481c0e60b87db07bd8e395e505de</td>\n",
       "      <td>dia-es</td>\n",
       "      <td>1.39</td>\n",
       "      <td>3.16</td>\n",
       "      <td>kg</td>\n",
       "      <td>alimentacion</td>\n",
       "      <td>legumbres</td>\n",
       "      <td>legumbres_preparadas</td>\n",
       "      <td>alimentacion_otros</td>\n",
       "    </tr>\n",
       "    <tr>\n",
       "      <th>4</th>\n",
       "      <td>2021-03-31</td>\n",
       "      <td>0010432366ece6221db98d6f1dc15d0b</td>\n",
       "      <td>mercadona-es</td>\n",
       "      <td>1.50</td>\n",
       "      <td>0.15</td>\n",
       "      <td>ud</td>\n",
       "      <td>limpieza_y_hogar</td>\n",
       "      <td>menaje_y_conservacion_de_alimentos</td>\n",
       "      <td>menaje_y_conservacion_de_alimentos</td>\n",
       "      <td>drogueria</td>\n",
       "    </tr>\n",
       "    <tr>\n",
       "      <th>...</th>\n",
       "      <td>...</td>\n",
       "      <td>...</td>\n",
       "      <td>...</td>\n",
       "      <td>...</td>\n",
       "      <td>...</td>\n",
       "      <td>...</td>\n",
       "      <td>...</td>\n",
       "      <td>...</td>\n",
       "      <td>...</td>\n",
       "      <td>...</td>\n",
       "    </tr>\n",
       "    <tr>\n",
       "      <th>299630</th>\n",
       "      <td>2022-06-30</td>\n",
       "      <td>ffdf78a9448041173eb593f95d0af392</td>\n",
       "      <td>carrefour-es</td>\n",
       "      <td>0.76</td>\n",
       "      <td>3.04</td>\n",
       "      <td>kg</td>\n",
       "      <td>productos_frescos</td>\n",
       "      <td>panaderia_bolleria_y_pasteleria</td>\n",
       "      <td>pan_de_molde_tostado_y_picos</td>\n",
       "      <td>frescos</td>\n",
       "    </tr>\n",
       "    <tr>\n",
       "      <th>299631</th>\n",
       "      <td>2022-06-30</td>\n",
       "      <td>fff2489d5b4ff800027ee527b8e6dea3</td>\n",
       "      <td>dia-es</td>\n",
       "      <td>1.59</td>\n",
       "      <td>8.59</td>\n",
       "      <td>kg</td>\n",
       "      <td>despensa</td>\n",
       "      <td>desayunos_y_dulces</td>\n",
       "      <td>galletas</td>\n",
       "      <td>conservas</td>\n",
       "    </tr>\n",
       "    <tr>\n",
       "      <th>299632</th>\n",
       "      <td>2022-06-30</td>\n",
       "      <td>fff3bcc496c06619a23befd1cd9003c9</td>\n",
       "      <td>dia-es</td>\n",
       "      <td>4.95</td>\n",
       "      <td>0.33</td>\n",
       "      <td>ud</td>\n",
       "      <td>bebe_cuidado_del_bebe</td>\n",
       "      <td></td>\n",
       "      <td></td>\n",
       "      <td>bebe</td>\n",
       "    </tr>\n",
       "    <tr>\n",
       "      <th>299633</th>\n",
       "      <td>2022-06-30</td>\n",
       "      <td>fff473551393a45da35c7ea160c52ada</td>\n",
       "      <td>mercadona-es</td>\n",
       "      <td>1.30</td>\n",
       "      <td>1.30</td>\n",
       "      <td>kg</td>\n",
       "      <td>postres_y_yogures</td>\n",
       "      <td>yogures</td>\n",
       "      <td>liquidos</td>\n",
       "      <td>lacteos_y_huevos</td>\n",
       "    </tr>\n",
       "    <tr>\n",
       "      <th>299634</th>\n",
       "      <td>2022-06-30</td>\n",
       "      <td>fff8007d5d155de4a4ea5215b0a0ffc5</td>\n",
       "      <td>mercadona-es</td>\n",
       "      <td>1.70</td>\n",
       "      <td>4.25</td>\n",
       "      <td>kg</td>\n",
       "      <td>fruta_y_verdura</td>\n",
       "      <td>verdura</td>\n",
       "      <td>verdura</td>\n",
       "      <td>fruta_y_verdura</td>\n",
       "    </tr>\n",
       "  </tbody>\n",
       "</table>\n",
       "<p>299635 rows × 10 columns</p>\n",
       "</div>"
      ],
      "text/plain": [
       "       insert_date                        product_id   supermarket  price  \\\n",
       "0       2021-03-31  000524d73b9d09ae193aaf463191b038  carrefour-es   2.60   \n",
       "1       2021-03-31  000780b12d67871681dccc1383869831  carrefour-es   2.75   \n",
       "2       2021-03-31  000980fa0323353bf82a87c4edbece89        dia-es   1.55   \n",
       "3       2021-03-31  000d481c0e60b87db07bd8e395e505de        dia-es   1.39   \n",
       "4       2021-03-31  0010432366ece6221db98d6f1dc15d0b  mercadona-es   1.50   \n",
       "...            ...                               ...           ...    ...   \n",
       "299630  2022-06-30  ffdf78a9448041173eb593f95d0af392  carrefour-es   0.76   \n",
       "299631  2022-06-30  fff2489d5b4ff800027ee527b8e6dea3        dia-es   1.59   \n",
       "299632  2022-06-30  fff3bcc496c06619a23befd1cd9003c9        dia-es   4.95   \n",
       "299633  2022-06-30  fff473551393a45da35c7ea160c52ada  mercadona-es   1.30   \n",
       "299634  2022-06-30  fff8007d5d155de4a4ea5215b0a0ffc5  mercadona-es   1.70   \n",
       "\n",
       "        reference_price reference_unit          main_category  \\\n",
       "0                 15.29             kg            charcuteria   \n",
       "1                 10.00             kg            la_despensa   \n",
       "2                  2.04             kg   congelados_y_helados   \n",
       "3                  3.16             kg           alimentacion   \n",
       "4                  0.15             ud       limpieza_y_hogar   \n",
       "...                 ...            ...                    ...   \n",
       "299630             3.04             kg      productos_frescos   \n",
       "299631             8.59             kg               despensa   \n",
       "299632             0.33             ud  bebe_cuidado_del_bebe   \n",
       "299633             1.30             kg      postres_y_yogures   \n",
       "299634             4.25             kg        fruta_y_verdura   \n",
       "\n",
       "                        secondary_category  \\\n",
       "0                  fiambre_de_pavo_y_pollo   \n",
       "1                         dulce_y_desayuno   \n",
       "2                                  helados   \n",
       "3                                legumbres   \n",
       "4       menaje_y_conservacion_de_alimentos   \n",
       "...                                    ...   \n",
       "299630     panaderia_bolleria_y_pasteleria   \n",
       "299631                  desayunos_y_dulces   \n",
       "299632                                       \n",
       "299633                             yogures   \n",
       "299634                             verdura   \n",
       "\n",
       "                                      type     supercategories  \n",
       "0                  fiambre_de_pavo_y_pollo               carne  \n",
       "1                       dulces_y_golosinas           conservas  \n",
       "2             zumos_horchatas_y_granizados          congelados  \n",
       "3                     legumbres_preparadas  alimentacion_otros  \n",
       "4       menaje_y_conservacion_de_alimentos           drogueria  \n",
       "...                                    ...                 ...  \n",
       "299630        pan_de_molde_tostado_y_picos             frescos  \n",
       "299631                            galletas           conservas  \n",
       "299632                                                    bebe  \n",
       "299633                            liquidos    lacteos_y_huevos  \n",
       "299634                             verdura     fruta_y_verdura  \n",
       "\n",
       "[299635 rows x 10 columns]"
      ]
     },
     "metadata": {},
     "output_type": "display_data"
    },
    {
     "name": "stdout",
     "output_type": "stream",
     "text": [
      "<class 'pandas.core.frame.DataFrame'>\n",
      "RangeIndex: 299635 entries, 0 to 299634\n",
      "Data columns (total 10 columns):\n",
      " #   Column              Non-Null Count   Dtype         \n",
      "---  ------              --------------   -----         \n",
      " 0   insert_date         299635 non-null  datetime64[ns]\n",
      " 1   product_id          299635 non-null  object        \n",
      " 2   supermarket         299635 non-null  object        \n",
      " 3   price               299635 non-null  float64       \n",
      " 4   reference_price     299635 non-null  float64       \n",
      " 5   reference_unit      299332 non-null  object        \n",
      " 6   main_category       299635 non-null  object        \n",
      " 7   secondary_category  299635 non-null  object        \n",
      " 8   type                299635 non-null  object        \n",
      " 9   supercategories     254668 non-null  object        \n",
      "dtypes: datetime64[ns](1), float64(2), object(7)\n",
      "memory usage: 22.9+ MB\n"
     ]
    },
    {
     "data": {
      "text/plain": [
       "None"
      ]
     },
     "metadata": {},
     "output_type": "display_data"
    }
   ],
   "source": [
    "import pandas as pd\n",
    "import seaborn as sns\n",
    "import matplotlib.pyplot as plt\n",
    "import numpy as np\n",
    "\n",
    "from supermarket_categories import SupermarketCategories\n",
    "\n",
    "df = pd.read_csv('datamarket_productos_de_supermercados.csv')\n",
    "sc = SupermarketCategories(df, \n",
    "                           load_split_categories=False, \n",
    "                           simplify_data=True)\n",
    "display(sc.dataset)\n",
    "display(sc.dataset.info())"
   ]
  },
  {
   "cell_type": "code",
   "execution_count": 4,
   "id": "a10a242d-bfee-4106-871a-62761d4976a9",
   "metadata": {},
   "outputs": [],
   "source": [
    "sc.dataset.to_csv('datamarket.csv', index=False)"
   ]
  },
  {
   "cell_type": "code",
   "execution_count": 5,
   "id": "96f80e8a-cc3a-4242-ae03-00b946efcbcb",
   "metadata": {},
   "outputs": [
    {
     "data": {
      "text/html": [
       "<div>\n",
       "<style scoped>\n",
       "    .dataframe tbody tr th:only-of-type {\n",
       "        vertical-align: middle;\n",
       "    }\n",
       "\n",
       "    .dataframe tbody tr th {\n",
       "        vertical-align: top;\n",
       "    }\n",
       "\n",
       "    .dataframe thead th {\n",
       "        text-align: right;\n",
       "    }\n",
       "</style>\n",
       "<table border=\"1\" class=\"dataframe\">\n",
       "  <thead>\n",
       "    <tr style=\"text-align: right;\">\n",
       "      <th></th>\n",
       "      <th>product_id</th>\n",
       "    </tr>\n",
       "    <tr>\n",
       "      <th>supermarket</th>\n",
       "      <th></th>\n",
       "    </tr>\n",
       "  </thead>\n",
       "  <tbody>\n",
       "    <tr>\n",
       "      <th>carrefour-es</th>\n",
       "      <td>14257</td>\n",
       "    </tr>\n",
       "    <tr>\n",
       "      <th>dia-es</th>\n",
       "      <td>10040</td>\n",
       "    </tr>\n",
       "    <tr>\n",
       "      <th>mercadona-es</th>\n",
       "      <td>8452</td>\n",
       "    </tr>\n",
       "  </tbody>\n",
       "</table>\n",
       "</div>"
      ],
      "text/plain": [
       "              product_id\n",
       "supermarket             \n",
       "carrefour-es       14257\n",
       "dia-es             10040\n",
       "mercadona-es        8452"
      ]
     },
     "metadata": {},
     "output_type": "display_data"
    },
    {
     "data": {
      "image/png": "[encoded data removed]",
      "text/plain": [
       "<Figure size 432x288 with 1 Axes>"
      ]
     },
     "metadata": {
      "needs_background": "light"
     },
     "output_type": "display_data"
    }
   ],
   "source": [
    "df = sc.dataset[['supermarket', 'product_id']].groupby(['supermarket']).nunique()\n",
    "display(df)\n",
    "sns.barplot(x=df.index, y=\"product_id\", data=df).set(title='Unique products')\n",
    "plt.show()"
   ]
  },
  {
   "cell_type": "code",
   "execution_count": 6,
   "id": "582fc3c6-a6f9-43ab-b16a-c9dfd9f22945",
   "metadata": {},
   "outputs": [],
   "source": [
    "df_last = sc.dataset.groupby(['product_id', 'supermarket', 'main_category', 'secondary_category', 'type']).last('insert_date').reset_index()"
   ]
  },
  {
   "cell_type": "code",
   "execution_count": 7,
   "id": "d57827e5-3ac2-473a-8d27-39efcf9d0b6c",
   "metadata": {},
   "outputs": [
    {
     "data": {
      "image/png": "[encoded data removed]",
      "text/plain": [
       "<Figure size 288x360 with 1 Axes>"
      ]
     },
     "metadata": {
      "needs_background": "light"
     },
     "output_type": "display_data"
    }
   ],
   "source": [
    "plt.figure(figsize=(4, 5))\n",
    "sns.boxplot(x=\"supermarket\", y=\"reference_price\", data=df_last[df_last.reference_price<=40]).set(title='Last ref. price for cheap products')\n",
    "plt.ylim(-1, 40)\n",
    "plt.show()"
   ]
  },
  {
   "cell_type": "code",
   "execution_count": 12,
   "id": "fc3a3e4e-9d42-48a8-9e0e-8214c5059855",
   "metadata": {},
   "outputs": [
    {
     "data": {
      "image/png": "[encoded data removed]",
      "text/plain": [
       "<Figure size 432x288 with 1 Axes>"
      ]
     },
     "metadata": {
      "needs_background": "light"
     },
     "output_type": "display_data"
    }
   ],
   "source": [
    "x = sc.dataset[['insert_date', 'supermarket','product_id']].groupby([pd.Grouper(key=\"insert_date\", freq=\"M\"), 'supermarket']).nunique()\n",
    "\n",
    "x.unstack().plot()\n",
    "plt.title('Productos reportados por mes')\n",
    "plt.show()"
   ]
  },
  {
   "cell_type": "code",
   "execution_count": 35,
   "id": "86bd925a-4e0b-47d1-9ceb-d494545f5dcb",
   "metadata": {
    "tags": []
   },
   "outputs": [
    {
     "data": {
      "image/png": "[encoded data removed]",
      "text/plain": [
       "<Figure size 432x288 with 1 Axes>"
      ]
     },
     "metadata": {
      "needs_background": "light"
     },
     "output_type": "display_data"
    }
   ],
   "source": [
    "x = sc.dataset.loc[sc.dataset.reference_price<200, ['insert_date', 'supermarket', 'reference_price']].groupby([pd.Grouper(key=\"insert_date\", freq=\"M\"), 'supermarket']).mean('reference_price')\n",
    "\n",
    "x.unstack().plot()\n",
    "plt.title('Precio medio por mes. Solo productos de menos de 200€')\n",
    "plt.show()"
   ]
  }
 ],
 "metadata": {
  "kernelspec": {
   "display_name": "Python 3 (ipykernel)",
   "language": "python",
   "name": "python3"
  },
  "language_info": {
   "codemirror_mode": {
    "name": "ipython",
    "version": 3
   },
   "file_extension": ".py",
   "mimetype": "text/x-python",
   "name": "python",
   "nbconvert_exporter": "python",
   "pygments_lexer": "ipython3",
   "version": "3.8.10"
  }
 },
 "nbformat": 4,
 "nbformat_minor": 5
}
